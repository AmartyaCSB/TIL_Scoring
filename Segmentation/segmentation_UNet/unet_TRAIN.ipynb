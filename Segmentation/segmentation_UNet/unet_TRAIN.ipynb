{
 "cells": [
  {
   "cell_type": "code",
   "execution_count": 1,
   "metadata": {},
   "outputs": [],
   "source": [
    "import argparse\n",
    "import logging\n",
    "import sys\n",
    "from pathlib import Path\n",
    "import torch\n",
    "import torch.nn as nn\n",
    "import torch.nn.functional as F\n",
    "from torch import optim\n",
    "from torch.utils.data import DataLoader, random_split\n",
    "from tqdm import tqdm\n",
    "import torchvision\n",
    "import torchvision.transforms as transforms\n",
    "from utils.dice_score import dice_loss\n",
    "from evaluate import evaluate\n",
    "from unet_model import UNet\n",
    "from wholeslidedata.iterators import create_batch_iterator\n",
    "import numpy as np\n",
    "from matplotlib import pyplot as plt\n",
    "from plot_utils import init_plot, plot_batch, show_plot\n",
    "from shapely.prepared import prep\n",
    "#import albumentations as A"
   ]
  },
  {
   "cell_type": "code",
   "execution_count": 2,
   "metadata": {},
   "outputs": [
    {
     "name": "stdout",
     "output_type": "stream",
     "text": [
      "cuda\n"
     ]
    }
   ],
   "source": [
    "torch.cuda.empty_cache()\n",
    "device = torch.device('cuda' if torch.cuda.is_available() else 'cpu')\n",
    "print(device)\n",
    "dir_checkpoint = Path('./checkpoints/')\n",
    "from utils.dice_score import dice_loss\n",
    "from evaluate import evaluate\n",
    "from unet_model import UNet"
   ]
  },
  {
   "cell_type": "code",
   "execution_count": 4,
   "metadata": {},
   "outputs": [],
   "source": [
    "def dice_loss(output, target):\n",
    "\n",
    "    eps = 0.0001\n",
    "\n",
    "    intersection = output * target\n",
    "    numerator = 2 * intersection.sum(0).sum(1).sum(1)\n",
    "    denominator = output + target\n",
    "    denominator = denominator.sum(0).sum(1).sum(1) + eps\n",
    "    loss_per_channel = (1 - (numerator / denominator))\n",
    "\n",
    "    return loss_per_channel.sum() / output.size(1)\n",
    "\n",
    "class DiceBCELoss(nn.Module):\n",
    "    def __init__(self, weight=None, size_average=True):\n",
    "        super(DiceBCELoss, self).__init__()\n",
    "\n",
    "    def forward(self, inputs, targets, smooth=1):\n",
    "        \n",
    "        #comment out if your model contains a sigmoid or equivalent activation layer\n",
    "        inputs = torch.sigmoid(inputs)       \n",
    "        \n",
    "        #flatten label and prediction tensors\n",
    "        inputs = inputs.reshape(-1)\n",
    "        targets = targets.reshape(-1)\n",
    "        \n",
    "        intersection = (inputs * targets).sum()                            \n",
    "        dice_loss = 1 - (2.*intersection + smooth)/(inputs.sum() + targets.sum() + smooth)  \n",
    "        BCE = F.binary_cross_entropy(inputs, targets, reduction='mean')\n",
    "        Dice_BCE = BCE + dice_loss\n",
    "        \n",
    "        return Dice_BCE"
   ]
  },
  {
   "cell_type": "code",
   "execution_count": 5,
   "metadata": {},
   "outputs": [],
   "source": [
    "# number of batches\n",
    "batches = 64\n",
    "# batch iterator config\n",
    "user_config = 'user_config.yml'\n",
    "# number of cpus used to extract patches on multiple cores\n",
    "cpus = 1\n",
    "\n",
    "# create iterators for the dataset\n",
    "if torch.cuda.is_available():\n",
    "    try:\n",
    "        training_iterator = create_batch_iterator(user_config=user_config, mode='training', cpus=1, number_of_batches=batches)\n",
    "        test_iterator = create_batch_iterator(user_config=user_config, mode='validation', cpus=1, number_of_batches=batches)    \n",
    "    except:\n",
    "        print(\"Exception!!!\")\n",
    "        sys.exit()"
   ]
  },
  {
   "cell_type": "code",
   "execution_count": 6,
   "metadata": {},
   "outputs": [],
   "source": [
    "net = UNet(n_channels=3, n_classes=2, bilinear=True)\n",
    "net.to(device=device)\n",
    "criterion = nn.CrossEntropyLoss()\n",
    "optimizer = optim.Adam(net.parameters(), lr= 1e-4, weight_decay=0.0001)"
   ]
  },
  {
   "cell_type": "code",
   "execution_count": 7,
   "metadata": {},
   "outputs": [],
   "source": [
    "train_losses = []\n",
    "test_losses = []\n",
    "\n",
    "textfile = open(\"train_dice_loss.txt\", \"w\")\n",
    "textfile.close()\n",
    "textfile = open(\"test_dice_loss.txt\", \"w\")\n",
    "textfile.close()"
   ]
  },
  {
   "cell_type": "code",
   "execution_count": 8,
   "metadata": {},
   "outputs": [
    {
     "name": "stderr",
     "output_type": "stream",
     "text": [
      "Epoch 0: 100%|██████████| 64/64 [00:44<00:00,  1.44batch/s, loss=0.958]\n"
     ]
    },
    {
     "name": "stdout",
     "output_type": "stream",
     "text": [
      "Training Done\n"
     ]
    },
    {
     "name": "stderr",
     "output_type": "stream",
     "text": [
      "Epoch 1:   0%|          | 0/64 [00:00<?, ?batch/s]"
     ]
    },
    {
     "name": "stdout",
     "output_type": "stream",
     "text": [
      "Validation Done\n",
      "1.108336791396141\n",
      "1.036374220624566\n"
     ]
    },
    {
     "name": "stderr",
     "output_type": "stream",
     "text": [
      "Epoch 1: 100%|██████████| 64/64 [00:44<00:00,  1.44batch/s, loss=0.846]\n"
     ]
    },
    {
     "name": "stdout",
     "output_type": "stream",
     "text": [
      "Training Done\n",
      "Validation Done\n",
      "0.9634148059412837\n",
      "1.1744936304166913\n"
     ]
    },
    {
     "name": "stderr",
     "output_type": "stream",
     "text": [
      "Epoch 2: 100%|██████████| 64/64 [00:44<00:00,  1.44batch/s, loss=0.83] \n"
     ]
    },
    {
     "name": "stdout",
     "output_type": "stream",
     "text": [
      "Training Done\n"
     ]
    },
    {
     "name": "stderr",
     "output_type": "stream",
     "text": [
      "Epoch 3:   0%|          | 0/64 [00:00<?, ?batch/s]"
     ]
    },
    {
     "name": "stdout",
     "output_type": "stream",
     "text": [
      "Validation Done\n",
      "0.889397744089365\n",
      "1.1979550085961819\n"
     ]
    },
    {
     "name": "stderr",
     "output_type": "stream",
     "text": [
      "Epoch 3: 100%|██████████| 64/64 [00:44<00:00,  1.44batch/s, loss=0.863]\n"
     ]
    },
    {
     "name": "stdout",
     "output_type": "stream",
     "text": [
      "Training Done\n",
      "Validation Done\n",
      "0.854425179772079\n",
      "1.3544434355571866\n"
     ]
    },
    {
     "name": "stderr",
     "output_type": "stream",
     "text": [
      "Epoch 4: 100%|██████████| 64/64 [00:44<00:00,  1.44batch/s, loss=0.793]\n"
     ]
    },
    {
     "name": "stdout",
     "output_type": "stream",
     "text": [
      "Training Done\n"
     ]
    },
    {
     "name": "stderr",
     "output_type": "stream",
     "text": [
      "Epoch 5:   0%|          | 0/64 [00:00<?, ?batch/s]"
     ]
    },
    {
     "name": "stdout",
     "output_type": "stream",
     "text": [
      "Validation Done\n",
      "0.8233824362978339\n",
      "1.3481671819463372\n"
     ]
    },
    {
     "name": "stderr",
     "output_type": "stream",
     "text": [
      "Epoch 5: 100%|██████████| 64/64 [00:44<00:00,  1.44batch/s, loss=0.664]\n"
     ]
    },
    {
     "name": "stdout",
     "output_type": "stream",
     "text": [
      "Training Done\n",
      "Validation Done\n",
      "0.8020014967769384\n",
      "1.4288484575226903\n"
     ]
    },
    {
     "name": "stderr",
     "output_type": "stream",
     "text": [
      "Epoch 6: 100%|██████████| 64/64 [00:44<00:00,  1.44batch/s, loss=0.738]\n"
     ]
    },
    {
     "name": "stdout",
     "output_type": "stream",
     "text": [
      "Training Done\n"
     ]
    },
    {
     "name": "stderr",
     "output_type": "stream",
     "text": [
      "Epoch 7:   0%|          | 0/64 [00:00<?, ?batch/s]"
     ]
    },
    {
     "name": "stdout",
     "output_type": "stream",
     "text": [
      "Validation Done\n",
      "0.8002567151561379\n",
      "1.377670873887837\n"
     ]
    },
    {
     "name": "stderr",
     "output_type": "stream",
     "text": [
      "Epoch 7: 100%|██████████| 64/64 [00:44<00:00,  1.44batch/s, loss=0.695]\n"
     ]
    },
    {
     "name": "stdout",
     "output_type": "stream",
     "text": [
      "Training Done\n",
      "Validation Done\n",
      "0.7768257362768054\n",
      "1.4718863684684038\n"
     ]
    },
    {
     "name": "stderr",
     "output_type": "stream",
     "text": [
      "Epoch 8: 100%|██████████| 64/64 [00:44<00:00,  1.44batch/s, loss=0.751]\n"
     ]
    },
    {
     "name": "stdout",
     "output_type": "stream",
     "text": [
      "Training Done\n"
     ]
    },
    {
     "name": "stderr",
     "output_type": "stream",
     "text": [
      "Epoch 9:   0%|          | 0/64 [00:00<?, ?batch/s]"
     ]
    },
    {
     "name": "stdout",
     "output_type": "stream",
     "text": [
      "Validation Done\n",
      "0.7499118773266673\n",
      "1.465862319804728\n"
     ]
    },
    {
     "name": "stderr",
     "output_type": "stream",
     "text": [
      "Epoch 9: 100%|██████████| 64/64 [00:44<00:00,  1.44batch/s, loss=0.626]\n"
     ]
    },
    {
     "name": "stdout",
     "output_type": "stream",
     "text": [
      "Training Done\n",
      "Validation Done\n",
      "0.7633857745677233\n",
      "1.485161941498518\n"
     ]
    },
    {
     "name": "stderr",
     "output_type": "stream",
     "text": [
      "Epoch 10: 100%|██████████| 64/64 [00:44<00:00,  1.44batch/s, loss=0.689]\n"
     ]
    },
    {
     "name": "stdout",
     "output_type": "stream",
     "text": [
      "Training Done\n"
     ]
    },
    {
     "name": "stderr",
     "output_type": "stream",
     "text": [
      "Epoch 11:   0%|          | 0/64 [00:00<?, ?batch/s]"
     ]
    },
    {
     "name": "stdout",
     "output_type": "stream",
     "text": [
      "Validation Done\n",
      "0.7376043703407049\n",
      "1.5139679834246635\n"
     ]
    },
    {
     "name": "stderr",
     "output_type": "stream",
     "text": [
      "Epoch 11: 100%|██████████| 64/64 [00:44<00:00,  1.44batch/s, loss=0.707]\n"
     ]
    },
    {
     "name": "stdout",
     "output_type": "stream",
     "text": [
      "Training Done\n",
      "Validation Done\n",
      "0.7247852901928127\n",
      "1.535516919568181\n"
     ]
    },
    {
     "name": "stderr",
     "output_type": "stream",
     "text": [
      "Epoch 12: 100%|██████████| 64/64 [00:44<00:00,  1.44batch/s, loss=0.745]\n"
     ]
    },
    {
     "name": "stdout",
     "output_type": "stream",
     "text": [
      "Training Done\n"
     ]
    },
    {
     "name": "stderr",
     "output_type": "stream",
     "text": [
      "Epoch 13:   0%|          | 0/64 [00:00<?, ?batch/s]"
     ]
    },
    {
     "name": "stdout",
     "output_type": "stream",
     "text": [
      "Validation Done\n",
      "0.7103573963977396\n",
      "1.5018460499122739\n"
     ]
    },
    {
     "name": "stderr",
     "output_type": "stream",
     "text": [
      "Epoch 13: 100%|██████████| 64/64 [00:44<00:00,  1.44batch/s, loss=0.769]\n"
     ]
    },
    {
     "name": "stdout",
     "output_type": "stream",
     "text": [
      "Training Done\n",
      "Validation Done\n",
      "0.7050458891317248\n",
      "1.6488411212339997\n"
     ]
    },
    {
     "name": "stderr",
     "output_type": "stream",
     "text": [
      "Epoch 14: 100%|██████████| 64/64 [00:44<00:00,  1.44batch/s, loss=0.712]\n"
     ]
    },
    {
     "name": "stdout",
     "output_type": "stream",
     "text": [
      "Training Done\n"
     ]
    },
    {
     "name": "stderr",
     "output_type": "stream",
     "text": [
      "Epoch 15:   0%|          | 0/64 [00:00<?, ?batch/s]"
     ]
    },
    {
     "name": "stdout",
     "output_type": "stream",
     "text": [
      "Validation Done\n",
      "0.6913357335142791\n",
      "1.7039190046489239\n"
     ]
    },
    {
     "name": "stderr",
     "output_type": "stream",
     "text": [
      "Epoch 15: 100%|██████████| 64/64 [00:44<00:00,  1.44batch/s, loss=0.599]\n"
     ]
    },
    {
     "name": "stdout",
     "output_type": "stream",
     "text": [
      "Training Done\n",
      "Validation Done\n",
      "0.6543138981796801\n",
      "1.7093359855934978\n"
     ]
    },
    {
     "name": "stderr",
     "output_type": "stream",
     "text": [
      "Epoch 16: 100%|██████████| 64/64 [00:44<00:00,  1.44batch/s, loss=0.626]\n"
     ]
    },
    {
     "name": "stdout",
     "output_type": "stream",
     "text": [
      "Training Done\n"
     ]
    },
    {
     "name": "stderr",
     "output_type": "stream",
     "text": [
      "Epoch 17:   0%|          | 0/64 [00:00<?, ?batch/s]"
     ]
    },
    {
     "name": "stdout",
     "output_type": "stream",
     "text": [
      "Validation Done\n",
      "0.648634220007807\n",
      "1.7811280079185963\n"
     ]
    },
    {
     "name": "stderr",
     "output_type": "stream",
     "text": [
      "Epoch 17: 100%|██████████| 64/64 [00:44<00:00,  1.44batch/s, loss=0.588]\n"
     ]
    },
    {
     "name": "stdout",
     "output_type": "stream",
     "text": [
      "Training Done\n",
      "Validation Done\n",
      "0.6494343387894332\n",
      "1.7404990419745445\n"
     ]
    },
    {
     "name": "stderr",
     "output_type": "stream",
     "text": [
      "Epoch 18: 100%|██████████| 64/64 [00:44<00:00,  1.44batch/s, loss=0.67] \n"
     ]
    },
    {
     "name": "stdout",
     "output_type": "stream",
     "text": [
      "Training Done\n"
     ]
    },
    {
     "name": "stderr",
     "output_type": "stream",
     "text": [
      "Epoch 19:   0%|          | 0/64 [00:00<?, ?batch/s]"
     ]
    },
    {
     "name": "stdout",
     "output_type": "stream",
     "text": [
      "Validation Done\n",
      "0.643398605287075\n",
      "1.7643175311386585\n"
     ]
    },
    {
     "name": "stderr",
     "output_type": "stream",
     "text": [
      "Epoch 19: 100%|██████████| 64/64 [00:44<00:00,  1.44batch/s, loss=0.562]\n"
     ]
    },
    {
     "name": "stdout",
     "output_type": "stream",
     "text": [
      "Training Done\n",
      "Validation Done\n",
      "0.6077534193173051\n",
      "1.7935045715421438\n"
     ]
    },
    {
     "name": "stderr",
     "output_type": "stream",
     "text": [
      "Epoch 20: 100%|██████████| 64/64 [00:44<00:00,  1.44batch/s, loss=0.542]\n"
     ]
    },
    {
     "name": "stdout",
     "output_type": "stream",
     "text": [
      "Training Done\n"
     ]
    },
    {
     "name": "stderr",
     "output_type": "stream",
     "text": [
      "Epoch 21:   0%|          | 0/64 [00:00<?, ?batch/s]"
     ]
    },
    {
     "name": "stdout",
     "output_type": "stream",
     "text": [
      "Validation Done\n",
      "0.5899172690697014\n",
      "1.8838801849633455\n"
     ]
    },
    {
     "name": "stderr",
     "output_type": "stream",
     "text": [
      "Epoch 21: 100%|██████████| 64/64 [00:44<00:00,  1.44batch/s, loss=0.506]\n"
     ]
    },
    {
     "name": "stdout",
     "output_type": "stream",
     "text": [
      "Training Done\n",
      "Validation Done\n",
      "0.5783139234408736\n",
      "1.8905819449573755\n"
     ]
    },
    {
     "name": "stderr",
     "output_type": "stream",
     "text": [
      "Epoch 22: 100%|██████████| 64/64 [00:44<00:00,  1.44batch/s, loss=0.574]\n"
     ]
    },
    {
     "name": "stdout",
     "output_type": "stream",
     "text": [
      "Training Done\n"
     ]
    },
    {
     "name": "stderr",
     "output_type": "stream",
     "text": [
      "Epoch 23:   0%|          | 0/64 [00:00<?, ?batch/s]"
     ]
    },
    {
     "name": "stdout",
     "output_type": "stream",
     "text": [
      "Validation Done\n",
      "0.5900816265493631\n",
      "1.9312606863677502\n"
     ]
    },
    {
     "name": "stderr",
     "output_type": "stream",
     "text": [
      "Epoch 23: 100%|██████████| 64/64 [00:44<00:00,  1.44batch/s, loss=0.56] \n"
     ]
    },
    {
     "name": "stdout",
     "output_type": "stream",
     "text": [
      "Training Done\n",
      "Validation Done\n",
      "0.557763752527535\n",
      "1.8800755646079779\n"
     ]
    },
    {
     "name": "stderr",
     "output_type": "stream",
     "text": [
      "Epoch 24: 100%|██████████| 64/64 [00:44<00:00,  1.44batch/s, loss=0.533]\n"
     ]
    },
    {
     "name": "stdout",
     "output_type": "stream",
     "text": [
      "Training Done\n"
     ]
    },
    {
     "name": "stderr",
     "output_type": "stream",
     "text": [
      "Epoch 25:   0%|          | 0/64 [00:00<?, ?batch/s]"
     ]
    },
    {
     "name": "stdout",
     "output_type": "stream",
     "text": [
      "Validation Done\n",
      "0.5196823431178927\n",
      "1.8952613435685635\n"
     ]
    },
    {
     "name": "stderr",
     "output_type": "stream",
     "text": [
      "Epoch 25: 100%|██████████| 64/64 [00:44<00:00,  1.44batch/s, loss=0.629]\n"
     ]
    },
    {
     "name": "stdout",
     "output_type": "stream",
     "text": [
      "Training Done\n",
      "Validation Done\n",
      "0.5553075629286468\n",
      "1.853947477415204\n"
     ]
    },
    {
     "name": "stderr",
     "output_type": "stream",
     "text": [
      "Epoch 26: 100%|██████████| 64/64 [00:44<00:00,  1.44batch/s, loss=0.547]\n"
     ]
    },
    {
     "name": "stdout",
     "output_type": "stream",
     "text": [
      "Training Done\n"
     ]
    },
    {
     "name": "stderr",
     "output_type": "stream",
     "text": [
      "Epoch 27:   0%|          | 0/64 [00:00<?, ?batch/s]"
     ]
    },
    {
     "name": "stdout",
     "output_type": "stream",
     "text": [
      "Validation Done\n",
      "0.5736003369092941\n",
      "1.845513829961419\n"
     ]
    },
    {
     "name": "stderr",
     "output_type": "stream",
     "text": [
      "Epoch 27: 100%|██████████| 64/64 [00:44<00:00,  1.44batch/s, loss=0.602]\n"
     ]
    },
    {
     "name": "stdout",
     "output_type": "stream",
     "text": [
      "Training Done\n",
      "Validation Done\n",
      "0.530089573469013\n",
      "1.8458305764943361\n"
     ]
    },
    {
     "name": "stderr",
     "output_type": "stream",
     "text": [
      "Epoch 28: 100%|██████████| 64/64 [00:44<00:00,  1.44batch/s, loss=0.561]\n"
     ]
    },
    {
     "name": "stdout",
     "output_type": "stream",
     "text": [
      "Training Done\n"
     ]
    },
    {
     "name": "stderr",
     "output_type": "stream",
     "text": [
      "Epoch 29:   0%|          | 0/64 [00:00<?, ?batch/s]"
     ]
    },
    {
     "name": "stdout",
     "output_type": "stream",
     "text": [
      "Validation Done\n",
      "0.5129474471323192\n",
      "1.9471442755311728\n"
     ]
    },
    {
     "name": "stderr",
     "output_type": "stream",
     "text": [
      "Epoch 29: 100%|██████████| 64/64 [00:44<00:00,  1.44batch/s, loss=0.543]\n"
     ]
    },
    {
     "name": "stdout",
     "output_type": "stream",
     "text": [
      "Training Done\n",
      "Validation Done\n",
      "0.5280507509596646\n",
      "1.9370951037853956\n"
     ]
    }
   ],
   "source": [
    "for epoch in range(30):\n",
    "    running_train_loss = 0.0\n",
    "    running_test_loss = 0.0\n",
    "    with tqdm(training_iterator, unit=\"batch\") as tepoch:\n",
    "        for i, data in enumerate(tepoch, 0):\n",
    "            tepoch.set_description(f\"Epoch {epoch}\")\n",
    "            \n",
    "            # normalize the data\n",
    "            images, true_masks = data[0], data[1]\n",
    "            info = data[2]\n",
    "            \n",
    "            # convert images to tensors\n",
    "            images = images.astype(np.float64)\n",
    "            true_masks = true_masks.astype(np.float64)\n",
    "            images = torch.Tensor(images)\n",
    "            true_masks = torch.Tensor(true_masks)\n",
    "            images = torch.permute(images,(0,3,1,2))\n",
    "            assert images.shape[1] == net.n_channels, \\\n",
    "                f'Network has been defined with {net.n_channels} input channels, ' \\\n",
    "                f'but loaded images have {images.shape[1]} channels. Please check that ' \\\n",
    "                'the images are loaded correctly.'\n",
    "            images = images.to(device=device, dtype=torch.float32)/255\n",
    "            true_masks = true_masks.to(device=device, dtype=torch.long)\n",
    "            \n",
    "            pred_masks = net(images)\n",
    "            loss = criterion(pred_masks, true_masks) \\\n",
    "                               + dice_loss(F.softmax(pred_masks, dim=1).float(),\n",
    "                                           F.one_hot(true_masks, net.n_classes).permute(0, 3, 1, 2).float())\n",
    "            \n",
    "            # zero the parameter gradients\n",
    "            optimizer.zero_grad()\n",
    "            loss.backward()\n",
    "            optimizer.step()\n",
    "            \n",
    "            #detaching\n",
    "            loss_train = loss.detach().cpu().item()\n",
    "            \n",
    "            #tracking_loss\n",
    "            running_train_loss += loss_train\n",
    "            tepoch.set_postfix(loss=loss_train)\n",
    "            \n",
    "            #cleanup\n",
    "            del images\n",
    "            del true_masks\n",
    "            del loss\n",
    "            del pred_masks\n",
    "            \n",
    "            torch.cuda.empty_cache()\n",
    "    print(\"Training Done\")\n",
    "    with torch.no_grad():\n",
    "        for i, data in enumerate(test_iterator, 0):\n",
    "            images, true_masks = data[0], data[1]\n",
    "            info = data[2] \n",
    "            \n",
    "            # convert images to tensors\n",
    "            images = images.astype(np.float64)\n",
    "            true_masks = true_masks.astype(np.float64)\n",
    "            images = torch.Tensor(images)\n",
    "            true_masks = torch.Tensor(true_masks)\n",
    "            images = torch.permute(images,(0,3,1,2))\n",
    "            assert images.shape[1] == net.n_channels, \\\n",
    "                f'Network has been defined with {net.n_channels} input channels, ' \\\n",
    "                f'but loaded images have {images.shape[1]} channels. Please check that ' \\\n",
    "                'the images are loaded correctly.'\n",
    "            images = images.to(device=device, dtype=torch.float32)/255\n",
    "            true_masks = true_masks.to(device=device, dtype=torch.long)\n",
    "            \n",
    "            pred_masks = net(images)\n",
    "            loss = criterion(pred_masks, true_masks) \\\n",
    "                               + dice_loss(F.softmax(pred_masks, dim=1).float(),\n",
    "                                           F.one_hot(true_masks, net.n_classes).permute(0, 3, 1, 2).float())\n",
    "            #detaching\n",
    "            loss_test = loss.detach().cpu().item()\n",
    "            \n",
    "            #running_loss\n",
    "            running_test_loss += loss_test\n",
    "            \n",
    "            #cleanup\n",
    "            del images\n",
    "            del true_masks\n",
    "            del loss\n",
    "            del pred_masks\n",
    "            \n",
    "            torch.cuda.empty_cache()\n",
    "    print(\"Validation Done\")\n",
    "    textfile = open(\"train_dice_loss.txt\", \"a\")\n",
    "    textfile.write(str(running_train_loss/len(training_iterator)) + \"\\n\")\n",
    "    textfile.close()\n",
    "\n",
    "    train_losses.append(running_train_loss/len(training_iterator))\n",
    "\n",
    "    textfile = open(\"test_dice_loss.txt\", \"a\")\n",
    "    textfile.write(str(running_test_loss/len(test_iterator)) + \"\\n\")\n",
    "    textfile.close()\n",
    "\n",
    "    test_losses.append(running_test_loss/len(test_iterator))\n",
    "    print(train_losses[-1])\n",
    "    print(test_losses[-1])\n",
    "    # LR scheduler step\n",
    "    #scheduler.step(loss_test)\n",
    "    # save checkpoint weights every 20 epochs \n",
    "    if ((epoch + 1) % 2 == 0):\n",
    "        torch.save(net.state_dict(), './checkpoints/weights_' + str(epoch+1) + '.pth')"
   ]
  },
  {
   "cell_type": "code",
   "execution_count": 6,
   "metadata": {},
   "outputs": [],
   "source": []
  },
  {
   "cell_type": "code",
   "execution_count": null,
   "metadata": {},
   "outputs": [],
   "source": []
  }
 ],
 "metadata": {
  "kernelspec": {
   "display_name": "Python 3",
   "language": "python",
   "name": "python3"
  },
  "language_info": {
   "codemirror_mode": {
    "name": "ipython",
    "version": 3
   },
   "file_extension": ".py",
   "mimetype": "text/x-python",
   "name": "python",
   "nbconvert_exporter": "python",
   "pygments_lexer": "ipython3",
   "version": "3.8.10"
  }
 },
 "nbformat": 4,
 "nbformat_minor": 4
}
